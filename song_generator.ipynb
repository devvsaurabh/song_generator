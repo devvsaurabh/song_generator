{
 "cells": [
  {
   "cell_type": "markdown",
   "metadata": {},
   "source": [
    "# Song Generator Using Markov Chains"
   ]
  },
  {
   "cell_type": "code",
   "execution_count": 7,
   "metadata": {},
   "outputs": [],
   "source": [
    "import numpy as np"
   ]
  },
  {
   "cell_type": "code",
   "execution_count": 1,
   "metadata": {},
   "outputs": [],
   "source": [
    "def generateTable(data,k=4):\n",
    "    \n",
    "    T = {}\n",
    "    for i in range(len(data)-k):\n",
    "        X = data[i:i+k]\n",
    "        Y = data[i+k]\n",
    "        \n",
    "        if T.get(X) is None:\n",
    "            T[X] = {}\n",
    "            T[X][Y] = 1\n",
    "            \n",
    "        else:\n",
    "            \n",
    "            if T[X].get(Y) is None:\n",
    "                T[X][Y] = 1\n",
    "            else:\n",
    "                T[X][Y] += 1\n",
    "                \n",
    "    return T"
   ]
  },
  {
   "cell_type": "code",
   "execution_count": 2,
   "metadata": {},
   "outputs": [],
   "source": [
    "def converyFreqIntoProb(T):\n",
    "    for kx in T.keys():\n",
    "        s = float(sum(T[kx].values()))\n",
    "        for k in T[kx].keys():\n",
    "            T[kx][k] = T[kx][k]/s\n",
    "    return T\n"
   ]
  },
  {
   "cell_type": "code",
   "execution_count": 3,
   "metadata": {},
   "outputs": [],
   "source": [
    "text_path = \"song.txt\"\n",
    "\n",
    "def load_text(filename):\n",
    "    with open(filename,encoding='utf8') as f:\n",
    "        return f.read()\n",
    "    \n",
    "text = load_text(text_path)"
   ]
  },
  {
   "cell_type": "code",
   "execution_count": 4,
   "metadata": {},
   "outputs": [],
   "source": [
    "def trainmarkov(text,k=4):\n",
    "    \n",
    "    T = generateTable(text,k)\n",
    "    T = converyFreqIntoProb(T)\n",
    "    \n",
    "    return T"
   ]
  },
  {
   "cell_type": "code",
   "execution_count": 5,
   "metadata": {},
   "outputs": [],
   "source": [
    "def sample_text(ctx,T,k):\n",
    "    ctx = ctx[-k:]\n",
    "    if T.get(ctx) is None:\n",
    "        return \" \"\n",
    "    possible_Chars = list(T[ctx].keys())\n",
    "    possible_values = list(T[ctx].values())\n",
    "    \n",
    "    return np.random.choice(possible_Chars,p = possible_values)"
   ]
  },
  {
   "cell_type": "code",
   "execution_count": 6,
   "metadata": {},
   "outputs": [],
   "source": [
    "def generateText(starting_sent,k=4,maxLen=1000):\n",
    "    \n",
    "    sentence = starting_sent\n",
    "    ctx = starting_sent[-k:]\n",
    "    \n",
    "    for ix in range(maxLen):\n",
    "        next_prediction = sample_text(ctx,model,k)\n",
    "        sentence += next_prediction\n",
    "        ctx = sentence[-k:]\n",
    "    return sentence"
   ]
  },
  {
   "cell_type": "code",
   "execution_count": 9,
   "metadata": {},
   "outputs": [],
   "source": [
    "model = trainmarkov(text)\n",
    "t_new = generateText(\"You\",k=4,maxLen=1000)"
   ]
  },
  {
   "cell_type": "code",
   "execution_count": 11,
   "metadata": {},
   "outputs": [
    {
     "name": "stdout",
     "output_type": "stream",
     "text": [
      "You know? Oops\n",
      "Know I left hit me on they'll give you back, aim\n",
      "Yeah, bitch, get on these cock up out-petty whole him my bone can fill (Hold age\n",
      "Got mothers)\n",
      "Don't not fails! Budden—L's!\n",
      "Fuckin'—oh\n",
      "And still can fill (Hold age\n",
      "Got me in 'em, Kells—attempt fail, I'ma man-bun?\n",
      "The fuck a dick up out a damn name\n",
      "Now let's boss pop Champagne to call to Recovery,\" oh shoot, I just done?\n",
      "Fuckin' smoke, I'ma man, Starter a love you got that Iggy ho, your mumble rapper\n",
      "How the fuck usin' beard (You die letter\n",
      "That good is like you dance around it (Talk about it\n",
      "Before I said his is a fuck's in the locks\n",
      "So just don't a hits\n",
      "That the next\n",
      "Damn, I'm with three-foot-eleven\n",
      "You yelling, \"Woo!\"\n",
      "So when your life to give your mumble rap better?\n",
      "Little white \"Not Alike\"\n",
      "But you Satanist night\n",
      "But how your who call you're nothin' at the effort\n",
      "But the mic to write \"Not Alike a mouth a 10-year-old age\n",
      "Got you're Marshall see\n",
      "You knows, long as bitch, pops pills\n",
      "But, Kells, the him he's daughter a dead, th\n"
     ]
    }
   ],
   "source": [
    "print(t_new)"
   ]
  },
  {
   "cell_type": "code",
   "execution_count": null,
   "metadata": {},
   "outputs": [],
   "source": []
  }
 ],
 "metadata": {
  "kernelspec": {
   "display_name": "Python 3",
   "language": "python",
   "name": "python3"
  },
  "language_info": {
   "codemirror_mode": {
    "name": "ipython",
    "version": 3
   },
   "file_extension": ".py",
   "mimetype": "text/x-python",
   "name": "python",
   "nbconvert_exporter": "python",
   "pygments_lexer": "ipython3",
   "version": "3.6.7"
  }
 },
 "nbformat": 4,
 "nbformat_minor": 2
}
